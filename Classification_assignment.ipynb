{
 "cells": [
  {
   "cell_type": "code",
   "execution_count": 1,
   "id": "8f123f3d",
   "metadata": {},
   "outputs": [],
   "source": [
    "import pandas as pd\n",
    "import numpy as np\n",
    "from sklearn import preprocessing\n",
    "import matplotlib.pyplot as plt \n",
    "plt.rc(\"font\", size=14)\n",
    "from sklearn.linear_model import LogisticRegression\n",
    "from sklearn.model_selection import train_test_split\n",
    "from sklearn.metrics import roc_auc_score, confusion_matrix\n",
    "from sklearn.metrics import roc_curve\n",
    "from sklearn.feature_selection import mutual_info_classif\n",
    "import seaborn as sns\n",
    "sns.set(style=\"white\")\n",
    "sns.set(style=\"whitegrid\", color_codes=True)\n",
    "from sklearn.metrics import accuracy_score\n",
    "from sklearn.metrics import f1_score"
   ]
  },
  {
   "cell_type": "code",
   "execution_count": 2,
   "id": "3e7fc5ce",
   "metadata": {},
   "outputs": [
    {
     "data": {
      "text/html": [
       "<div>\n",
       "<style scoped>\n",
       "    .dataframe tbody tr th:only-of-type {\n",
       "        vertical-align: middle;\n",
       "    }\n",
       "\n",
       "    .dataframe tbody tr th {\n",
       "        vertical-align: top;\n",
       "    }\n",
       "\n",
       "    .dataframe thead th {\n",
       "        text-align: right;\n",
       "    }\n",
       "</style>\n",
       "<table border=\"1\" class=\"dataframe\">\n",
       "  <thead>\n",
       "    <tr style=\"text-align: right;\">\n",
       "      <th></th>\n",
       "      <th>X1</th>\n",
       "      <th>X2</th>\n",
       "      <th>X3</th>\n",
       "      <th>X4</th>\n",
       "      <th>X5</th>\n",
       "      <th>X6</th>\n",
       "      <th>X7</th>\n",
       "      <th>X8</th>\n",
       "      <th>X9</th>\n",
       "      <th>X10</th>\n",
       "      <th>...</th>\n",
       "      <th>X49</th>\n",
       "      <th>X50</th>\n",
       "      <th>X51</th>\n",
       "      <th>X52</th>\n",
       "      <th>X53</th>\n",
       "      <th>X54</th>\n",
       "      <th>X55</th>\n",
       "      <th>X56</th>\n",
       "      <th>X57</th>\n",
       "      <th>Y</th>\n",
       "    </tr>\n",
       "  </thead>\n",
       "  <tbody>\n",
       "    <tr>\n",
       "      <th>0</th>\n",
       "      <td>0.00</td>\n",
       "      <td>0.00</td>\n",
       "      <td>4.34</td>\n",
       "      <td>0.00</td>\n",
       "      <td>0.00</td>\n",
       "      <td>0.00</td>\n",
       "      <td>0.00</td>\n",
       "      <td>0.00</td>\n",
       "      <td>0.0</td>\n",
       "      <td>0.00</td>\n",
       "      <td>...</td>\n",
       "      <td>0.0</td>\n",
       "      <td>0.000</td>\n",
       "      <td>0.0</td>\n",
       "      <td>1.342</td>\n",
       "      <td>0.000</td>\n",
       "      <td>0.000</td>\n",
       "      <td>1.200</td>\n",
       "      <td>2</td>\n",
       "      <td>12</td>\n",
       "      <td>0</td>\n",
       "    </tr>\n",
       "    <tr>\n",
       "      <th>1</th>\n",
       "      <td>0.00</td>\n",
       "      <td>0.56</td>\n",
       "      <td>0.56</td>\n",
       "      <td>0.00</td>\n",
       "      <td>1.12</td>\n",
       "      <td>0.56</td>\n",
       "      <td>2.25</td>\n",
       "      <td>0.00</td>\n",
       "      <td>0.0</td>\n",
       "      <td>0.56</td>\n",
       "      <td>...</td>\n",
       "      <td>0.0</td>\n",
       "      <td>0.083</td>\n",
       "      <td>0.0</td>\n",
       "      <td>0.503</td>\n",
       "      <td>0.000</td>\n",
       "      <td>0.083</td>\n",
       "      <td>16.304</td>\n",
       "      <td>148</td>\n",
       "      <td>375</td>\n",
       "      <td>1</td>\n",
       "    </tr>\n",
       "    <tr>\n",
       "      <th>2</th>\n",
       "      <td>0.00</td>\n",
       "      <td>0.00</td>\n",
       "      <td>0.00</td>\n",
       "      <td>0.00</td>\n",
       "      <td>0.00</td>\n",
       "      <td>0.00</td>\n",
       "      <td>0.00</td>\n",
       "      <td>0.00</td>\n",
       "      <td>0.0</td>\n",
       "      <td>0.00</td>\n",
       "      <td>...</td>\n",
       "      <td>0.0</td>\n",
       "      <td>0.000</td>\n",
       "      <td>0.0</td>\n",
       "      <td>0.000</td>\n",
       "      <td>0.000</td>\n",
       "      <td>0.000</td>\n",
       "      <td>1.000</td>\n",
       "      <td>1</td>\n",
       "      <td>5</td>\n",
       "      <td>0</td>\n",
       "    </tr>\n",
       "    <tr>\n",
       "      <th>3</th>\n",
       "      <td>0.64</td>\n",
       "      <td>0.00</td>\n",
       "      <td>0.64</td>\n",
       "      <td>0.00</td>\n",
       "      <td>1.93</td>\n",
       "      <td>0.00</td>\n",
       "      <td>0.00</td>\n",
       "      <td>0.00</td>\n",
       "      <td>0.0</td>\n",
       "      <td>0.00</td>\n",
       "      <td>...</td>\n",
       "      <td>0.0</td>\n",
       "      <td>0.000</td>\n",
       "      <td>0.0</td>\n",
       "      <td>0.462</td>\n",
       "      <td>0.370</td>\n",
       "      <td>0.000</td>\n",
       "      <td>2.440</td>\n",
       "      <td>22</td>\n",
       "      <td>122</td>\n",
       "      <td>1</td>\n",
       "    </tr>\n",
       "    <tr>\n",
       "      <th>4</th>\n",
       "      <td>0.58</td>\n",
       "      <td>0.00</td>\n",
       "      <td>0.00</td>\n",
       "      <td>35.46</td>\n",
       "      <td>0.58</td>\n",
       "      <td>0.00</td>\n",
       "      <td>0.58</td>\n",
       "      <td>0.58</td>\n",
       "      <td>0.0</td>\n",
       "      <td>0.00</td>\n",
       "      <td>...</td>\n",
       "      <td>0.0</td>\n",
       "      <td>0.000</td>\n",
       "      <td>0.0</td>\n",
       "      <td>0.239</td>\n",
       "      <td>0.239</td>\n",
       "      <td>0.000</td>\n",
       "      <td>3.338</td>\n",
       "      <td>123</td>\n",
       "      <td>207</td>\n",
       "      <td>1</td>\n",
       "    </tr>\n",
       "  </tbody>\n",
       "</table>\n",
       "<p>5 rows × 58 columns</p>\n",
       "</div>"
      ],
      "text/plain": [
       "     X1    X2    X3     X4    X5    X6    X7    X8   X9   X10  ...  X49  \\\n",
       "0  0.00  0.00  4.34   0.00  0.00  0.00  0.00  0.00  0.0  0.00  ...  0.0   \n",
       "1  0.00  0.56  0.56   0.00  1.12  0.56  2.25  0.00  0.0  0.56  ...  0.0   \n",
       "2  0.00  0.00  0.00   0.00  0.00  0.00  0.00  0.00  0.0  0.00  ...  0.0   \n",
       "3  0.64  0.00  0.64   0.00  1.93  0.00  0.00  0.00  0.0  0.00  ...  0.0   \n",
       "4  0.58  0.00  0.00  35.46  0.58  0.00  0.58  0.58  0.0  0.00  ...  0.0   \n",
       "\n",
       "     X50  X51    X52    X53    X54     X55  X56  X57  Y  \n",
       "0  0.000  0.0  1.342  0.000  0.000   1.200    2   12  0  \n",
       "1  0.083  0.0  0.503  0.000  0.083  16.304  148  375  1  \n",
       "2  0.000  0.0  0.000  0.000  0.000   1.000    1    5  0  \n",
       "3  0.000  0.0  0.462  0.370  0.000   2.440   22  122  1  \n",
       "4  0.000  0.0  0.239  0.239  0.000   3.338  123  207  1  \n",
       "\n",
       "[5 rows x 58 columns]"
      ]
     },
     "execution_count": 2,
     "metadata": {},
     "output_type": "execute_result"
    }
   ],
   "source": [
    "df = pd.read_csv('training_set.csv')\n",
    "df.head()"
   ]
  },
  {
   "cell_type": "code",
   "execution_count": 3,
   "id": "c6a1bc51",
   "metadata": {},
   "outputs": [],
   "source": [
    "# First we will try to fit the model on full dataframe \n",
    "\n",
    "X, y = df.loc[:,df.columns !='Y'], df['Y']\n",
    "X_train, X_val, y_train, y_val = train_test_split(X, y, test_size= 0.2, random_state=4, stratify=y)"
   ]
  },
  {
   "cell_type": "code",
   "execution_count": 4,
   "id": "de6a5da5",
   "metadata": {},
   "outputs": [
    {
     "name": "stdout",
     "output_type": "stream",
     "text": [
      "(3128, 57) (782, 57)\n",
      "(3128,) (782,)\n"
     ]
    }
   ],
   "source": [
    "print(X_train.shape, X_val.shape)\n",
    "print(y_train.shape, y_val.shape)"
   ]
  },
  {
   "cell_type": "markdown",
   "id": "b4f29425",
   "metadata": {},
   "source": [
    "For this classification problem I have tried to use Logistic regression, Random Forest and XGBOOST classifiers and compare their accuracy , ROC-AUC values."
   ]
  },
  {
   "cell_type": "markdown",
   "id": "c5ece002",
   "metadata": {},
   "source": [
    "# Logistic Regression over the whole dataset"
   ]
  },
  {
   "cell_type": "code",
   "execution_count": 5,
   "id": "fdfd5fd4",
   "metadata": {},
   "outputs": [],
   "source": [
    "clf = LogisticRegression(solver='liblinear',random_state=0).fit(X_train, y_train)"
   ]
  },
  {
   "cell_type": "code",
   "execution_count": 6,
   "id": "232831bc",
   "metadata": {},
   "outputs": [
    {
     "data": {
      "text/plain": [
       "array([0, 1], dtype=int64)"
      ]
     },
     "execution_count": 6,
     "metadata": {},
     "output_type": "execute_result"
    }
   ],
   "source": [
    "clf.classes_"
   ]
  },
  {
   "cell_type": "code",
   "execution_count": 7,
   "id": "ee7d26e5",
   "metadata": {},
   "outputs": [],
   "source": [
    "predict_prob = clf.predict_proba(X_val)[:,1]"
   ]
  },
  {
   "cell_type": "code",
   "execution_count": 8,
   "id": "acf0475e",
   "metadata": {},
   "outputs": [
    {
     "name": "stdout",
     "output_type": "stream",
     "text": [
      "the accuracy of the model is 0.9258312020460358\n"
     ]
    }
   ],
   "source": [
    "score = clf.score(X_val, y_val)\n",
    "print(f'the accuracy of the model is {score}')"
   ]
  },
  {
   "cell_type": "code",
   "execution_count": 9,
   "id": "86176f3a",
   "metadata": {},
   "outputs": [
    {
     "name": "stdout",
     "output_type": "stream",
     "text": [
      "0.9697514143665352\n"
     ]
    }
   ],
   "source": [
    "print(roc_auc_score(y_val, predict_prob))"
   ]
  },
  {
   "cell_type": "code",
   "execution_count": 10,
   "id": "24557ecc",
   "metadata": {},
   "outputs": [
    {
     "name": "stdout",
     "output_type": "stream",
     "text": [
      "(3910,) (782,)\n"
     ]
    }
   ],
   "source": [
    "predictions  = clf.predict(X_val)\n",
    "print(y.shape, predictions.shape)"
   ]
  },
  {
   "cell_type": "code",
   "execution_count": 11,
   "id": "be3e79b6",
   "metadata": {},
   "outputs": [
    {
     "name": "stdout",
     "output_type": "stream",
     "text": [
      "[[448  27]\n",
      " [ 31 276]]\n"
     ]
    }
   ],
   "source": [
    "confusion_mat = confusion_matrix(y_val, predictions)\n",
    "print(confusion_mat)"
   ]
  },
  {
   "cell_type": "code",
   "execution_count": 12,
   "id": "1a56e51d",
   "metadata": {},
   "outputs": [
    {
     "name": "stdout",
     "output_type": "stream",
     "text": [
      "0.9258312020460358\n"
     ]
    }
   ],
   "source": [
    "accuracy = (448+276)/(448+27+31+276)\n",
    "print(accuracy)\n",
    "#Just evaluating the model"
   ]
  },
  {
   "cell_type": "markdown",
   "id": "b60fbe38",
   "metadata": {},
   "source": [
    "Now in instance two we will try to select some features and then fit the model again \n"
   ]
  },
  {
   "cell_type": "code",
   "execution_count": 13,
   "id": "2d58f59d",
   "metadata": {},
   "outputs": [
    {
     "name": "stdout",
     "output_type": "stream",
     "text": [
      "58\n"
     ]
    }
   ],
   "source": [
    "colname = list(df.columns)\n",
    "print(len(colname))"
   ]
  },
  {
   "cell_type": "markdown",
   "id": "3e4ed736",
   "metadata": {},
   "source": [
    "# Here we have tried to reduce the number of variables using Mutual information\n"
   ]
  },
  {
   "cell_type": "markdown",
   "id": "b695105b",
   "metadata": {},
   "source": [
    "I have tried to check the variability of values in the column and dropped those column which has a variance of less than 0.5"
   ]
  },
  {
   "cell_type": "code",
   "execution_count": 14,
   "id": "9a5dddfd",
   "metadata": {},
   "outputs": [
    {
     "name": "stdout",
     "output_type": "stream",
     "text": [
      "17\n"
     ]
    }
   ],
   "source": [
    "colstoKeep = []\n",
    "for col in colname:\n",
    "    if df[col].var() > 0.5:\n",
    "        colstoKeep.append(col)\n",
    "\n",
    "print(len(colstoKeep))"
   ]
  },
  {
   "cell_type": "code",
   "execution_count": 15,
   "id": "0a59faa7",
   "metadata": {},
   "outputs": [
    {
     "name": "stdout",
     "output_type": "stream",
     "text": [
      "(3910, 17)\n"
     ]
    }
   ],
   "source": [
    "dfnew = df[colstoKeep]\n",
    "print(dfnew.shape)"
   ]
  },
  {
   "cell_type": "code",
   "execution_count": 16,
   "id": "ddf1f182",
   "metadata": {},
   "outputs": [],
   "source": [
    "\n",
    "X2, y2 = dfnew.loc[:,dfnew.columns !='Y'], df['Y']\n",
    "X_train2, X_val2, y_train2, y_val2 = train_test_split(X2, y2, test_size= 0.2, random_state=4, stratify=y2)"
   ]
  },
  {
   "cell_type": "code",
   "execution_count": 17,
   "id": "4a499ded",
   "metadata": {},
   "outputs": [],
   "source": [
    "clf2 = LogisticRegression(solver='liblinear',random_state=0).fit(X_train2, y_train2)"
   ]
  },
  {
   "cell_type": "code",
   "execution_count": 18,
   "id": "a4c4ff7d",
   "metadata": {},
   "outputs": [
    {
     "name": "stdout",
     "output_type": "stream",
     "text": [
      "0.9294976855820334\n"
     ]
    }
   ],
   "source": [
    "predict_prob = clf2.predict_proba(X_val2)[:,1]\n",
    "print(roc_auc_score(y_val, predict_prob))"
   ]
  },
  {
   "cell_type": "code",
   "execution_count": 19,
   "id": "1f633cdb",
   "metadata": {},
   "outputs": [],
   "source": [
    "predictions2  = clf2.predict(X_val2)"
   ]
  },
  {
   "cell_type": "code",
   "execution_count": 20,
   "id": "9edaa087",
   "metadata": {},
   "outputs": [
    {
     "name": "stdout",
     "output_type": "stream",
     "text": [
      "[[429  46]\n",
      " [ 63 244]]\n"
     ]
    }
   ],
   "source": [
    "confusion_mat = confusion_matrix(y_val2, predictions2)\n",
    "print(confusion_mat)"
   ]
  },
  {
   "cell_type": "code",
   "execution_count": 21,
   "id": "53797dd0",
   "metadata": {},
   "outputs": [
    {
     "name": "stdout",
     "output_type": "stream",
     "text": [
      "the accuracy with 17 features is 0.876839659178931\n"
     ]
    }
   ],
   "source": [
    "accuracy2 = (717+415)/(717+68+91+415)\n",
    "print(f'the accuracy with 17 features is {accuracy2}')"
   ]
  },
  {
   "cell_type": "code",
   "execution_count": 22,
   "id": "49054d6a",
   "metadata": {},
   "outputs": [],
   "source": [
    "#feature selection using mutual info classification"
   ]
  },
  {
   "cell_type": "code",
   "execution_count": 23,
   "id": "eee91332",
   "metadata": {},
   "outputs": [],
   "source": [
    "mutual_info = mutual_info_classif(X_train, y_train)"
   ]
  },
  {
   "cell_type": "code",
   "execution_count": 24,
   "id": "1c2a0295",
   "metadata": {},
   "outputs": [],
   "source": [
    "mutual_info = pd.Series(mutual_info)"
   ]
  },
  {
   "cell_type": "code",
   "execution_count": 25,
   "id": "228f241c",
   "metadata": {},
   "outputs": [],
   "source": [
    "mutual_info.index = X_train.columns"
   ]
  },
  {
   "cell_type": "code",
   "execution_count": 26,
   "id": "b952ac78",
   "metadata": {},
   "outputs": [
    {
     "data": {
      "text/plain": [
       "X52    0.210711\n",
       "X56    0.198255\n",
       "X21    0.183165\n",
       "X55    0.180157\n",
       "X53    0.163361\n",
       "X7     0.150429\n",
       "X57    0.144045\n",
       "X16    0.136254\n",
       "X24    0.134218\n",
       "X25    0.121504\n",
       "X19    0.117960\n",
       "X23    0.112997\n",
       "X5     0.101243\n",
       "X2     0.098543\n",
       "X27    0.096388\n",
       "X17    0.086503\n",
       "X3     0.076674\n",
       "X10    0.072449\n",
       "X26    0.071893\n",
       "X11    0.069533\n",
       "X20    0.065043\n",
       "X8     0.061440\n",
       "X9     0.059097\n",
       "X6     0.056749\n",
       "X54    0.056667\n",
       "X12    0.055913\n",
       "X18    0.053717\n",
       "X15    0.051951\n",
       "X1     0.047135\n",
       "X45    0.047059\n",
       "X50    0.042752\n",
       "X43    0.039972\n",
       "X29    0.037215\n",
       "X46    0.036254\n",
       "X42    0.035077\n",
       "X13    0.034493\n",
       "X49    0.032629\n",
       "X31    0.031732\n",
       "X36    0.030941\n",
       "X28    0.030533\n",
       "X32    0.030242\n",
       "X30    0.029202\n",
       "X39    0.028663\n",
       "X35    0.026249\n",
       "X37    0.025161\n",
       "X34    0.021915\n",
       "X48    0.018404\n",
       "X40    0.017690\n",
       "X44    0.017041\n",
       "X51    0.016668\n",
       "X14    0.012977\n",
       "X47    0.008412\n",
       "X33    0.007654\n",
       "X41    0.004011\n",
       "X4     0.002761\n",
       "X38    0.000000\n",
       "X22    0.000000\n",
       "dtype: float64"
      ]
     },
     "execution_count": 26,
     "metadata": {},
     "output_type": "execute_result"
    }
   ],
   "source": [
    "mutual_info.sort_values(ascending=False)"
   ]
  },
  {
   "cell_type": "code",
   "execution_count": 27,
   "id": "b1f350ee",
   "metadata": {},
   "outputs": [
    {
     "data": {
      "text/plain": [
       "<AxesSubplot:>"
      ]
     },
     "execution_count": 27,
     "metadata": {},
     "output_type": "execute_result"
    },
    {
     "data": {
      "image/png": "[encoded data removed]",
      "text/plain": [
       "<Figure size 1440x576 with 1 Axes>"
      ]
     },
     "metadata": {},
     "output_type": "display_data"
    }
   ],
   "source": [
    "mutual_info.sort_values(ascending=False).plot.bar(figsize=(20, 8))"
   ]
  },
  {
   "cell_type": "code",
   "execution_count": 28,
   "id": "1b600237",
   "metadata": {},
   "outputs": [],
   "source": [
    "colstoKeep_mutual = mutual_info[mutual_info >= 0.05]"
   ]
  },
  {
   "cell_type": "code",
   "execution_count": 29,
   "id": "3caf08c2",
   "metadata": {},
   "outputs": [],
   "source": [
    "colstoKeep_mutual = colstoKeep_mutual.index.to_list()"
   ]
  },
  {
   "cell_type": "code",
   "execution_count": 30,
   "id": "d7916d30",
   "metadata": {},
   "outputs": [
    {
     "data": {
      "text/plain": [
       "['X2',\n",
       " 'X3',\n",
       " 'X5',\n",
       " 'X6',\n",
       " 'X7',\n",
       " 'X8',\n",
       " 'X9',\n",
       " 'X10',\n",
       " 'X11',\n",
       " 'X12',\n",
       " 'X15',\n",
       " 'X16',\n",
       " 'X17',\n",
       " 'X18',\n",
       " 'X19',\n",
       " 'X20',\n",
       " 'X21',\n",
       " 'X23',\n",
       " 'X24',\n",
       " 'X25',\n",
       " 'X26',\n",
       " 'X27',\n",
       " 'X52',\n",
       " 'X53',\n",
       " 'X54',\n",
       " 'X55',\n",
       " 'X56',\n",
       " 'X57']"
      ]
     },
     "execution_count": 30,
     "metadata": {},
     "output_type": "execute_result"
    }
   ],
   "source": [
    "colstoKeep_mutual"
   ]
  },
  {
   "cell_type": "code",
   "execution_count": 31,
   "id": "28b7e8e6",
   "metadata": {},
   "outputs": [],
   "source": [
    "df_mutual = df[colstoKeep_mutual]"
   ]
  },
  {
   "cell_type": "code",
   "execution_count": 32,
   "id": "3c05f840",
   "metadata": {},
   "outputs": [
    {
     "name": "stdout",
     "output_type": "stream",
     "text": [
      "['X2', 'X3', 'X5', 'X6', 'X7', 'X8', 'X9', 'X10', 'X11', 'X12', 'X15', 'X16', 'X17', 'X18', 'X19', 'X20', 'X21', 'X23', 'X24', 'X25', 'X26', 'X27', 'X52', 'X53', 'X54', 'X55', 'X56', 'X57']\n"
     ]
    }
   ],
   "source": [
    "print(colstoKeep_mutual)"
   ]
  },
  {
   "cell_type": "markdown",
   "id": "aa9896ee",
   "metadata": {},
   "source": [
    "# Here I have used Logistic Regression over those variable which have min 5 percent contribution on output variable\n"
   ]
  },
  {
   "cell_type": "code",
   "execution_count": 33,
   "id": "1969248c",
   "metadata": {},
   "outputs": [],
   "source": [
    "\n",
    "X_m, y_m = df_mutual.loc[:,df_mutual.columns !='Y'], df['Y']\n",
    "X_train_m, X_val_m, y_train_m, y_val_m = train_test_split(X_m, y_m, test_size= 0.2, random_state=4, stratify=y2)"
   ]
  },
  {
   "cell_type": "code",
   "execution_count": 34,
   "id": "ac6e3818",
   "metadata": {},
   "outputs": [],
   "source": [
    "clf_m = LogisticRegression(solver='liblinear',random_state=0).fit(X_train_m, y_train_m)"
   ]
  },
  {
   "cell_type": "code",
   "execution_count": 35,
   "id": "671f15f3",
   "metadata": {},
   "outputs": [
    {
     "name": "stdout",
     "output_type": "stream",
     "text": [
      "0.9606377507286132\n"
     ]
    }
   ],
   "source": [
    "predict_prob_m = clf_m.predict_proba(X_val_m)[:,1]\n",
    "print(roc_auc_score(y_val_m, predict_prob_m))"
   ]
  },
  {
   "cell_type": "code",
   "execution_count": 36,
   "id": "e336a803",
   "metadata": {},
   "outputs": [
    {
     "name": "stdout",
     "output_type": "stream",
     "text": [
      "[[429  46]\n",
      " [ 63 244]]\n"
     ]
    }
   ],
   "source": [
    "confusion_mat = confusion_matrix(y_val2, predictions2)\n",
    "print(confusion_mat)"
   ]
  },
  {
   "cell_type": "code",
   "execution_count": 37,
   "id": "97b40ca3",
   "metadata": {},
   "outputs": [
    {
     "name": "stdout",
     "output_type": "stream",
     "text": [
      "the accuracy in the mutualinfo 0.860613810741688\n"
     ]
    }
   ],
   "source": [
    "accuracy_log_m = (429+244)/(429+46+63+244)\n",
    "print(f'the accuracy in the mutualinfo {accuracy_log_m}')"
   ]
  },
  {
   "cell_type": "code",
   "execution_count": 38,
   "id": "ca5ac1b2",
   "metadata": {
    "scrolled": true
   },
   "outputs": [
    {
     "data": {
      "image/png": "[encoded data removed]",
      "text/plain": [
       "<Figure size 720x720 with 1 Axes>"
      ]
     },
     "metadata": {},
     "output_type": "display_data"
    }
   ],
   "source": [
    "\n",
    "\n",
    "fpr1, tpr1, threshold1 = roc_curve(y_val, predict_prob)\n",
    "\n",
    "fpr2, tpr2, threshold2 = roc_curve(y_val_m, predict_prob_m)\n",
    "plt.figure(figsize=(10,10))\n",
    "plt.plot(fpr1, tpr1, label = \"LogregWithoutFS\")\n",
    "\n",
    "plt.plot(fpr2, tpr2, label=\"LogregWithFS\")\n",
    "plt.legend(loc='best')\n",
    "plt.show()\n"
   ]
  },
  {
   "cell_type": "markdown",
   "id": "078fa08a",
   "metadata": {},
   "source": [
    "# Using XGBOOST on the whole dataset"
   ]
  },
  {
   "cell_type": "code",
   "execution_count": 39,
   "id": "6df72272",
   "metadata": {},
   "outputs": [
    {
     "name": "stdout",
     "output_type": "stream",
     "text": [
      "Requirement already satisfied: xgboost in e:\\pycharm projects\\arya_assignment\\venv\\lib\\site-packages (1.6.0)\n",
      "Requirement already satisfied: scipy in e:\\pycharm projects\\arya_assignment\\venv\\lib\\site-packages (from xgboost) (1.8.0)\n",
      "Requirement already satisfied: numpy in e:\\pycharm projects\\arya_assignment\\venv\\lib\\site-packages (from xgboost) (1.22.3)\n",
      "Note: you may need to restart the kernel to use updated packages.\n"
     ]
    }
   ],
   "source": [
    "pip install xgboost"
   ]
  },
  {
   "cell_type": "code",
   "execution_count": 40,
   "id": "c5026bae",
   "metadata": {},
   "outputs": [],
   "source": [
    "import xgboost as xgb\n",
    "from sklearn import metrics"
   ]
  },
  {
   "cell_type": "code",
   "execution_count": 41,
   "id": "122ae3c9",
   "metadata": {},
   "outputs": [
    {
     "name": "stdout",
     "output_type": "stream",
     "text": [
      "<class 'xgboost.sklearn.XGBClassifier'>\n"
     ]
    }
   ],
   "source": [
    "xgb_cl = xgb.XGBClassifier()\n",
    "\n",
    "print(type(xgb_cl))"
   ]
  },
  {
   "cell_type": "code",
   "execution_count": 42,
   "id": "c1538160",
   "metadata": {},
   "outputs": [],
   "source": [
    "X, y = df.loc[:,df.columns !='Y'], df['Y']\n",
    "X_train, X_val, y_train, y_val = train_test_split(X, y, test_size= 0.2, random_state=4, stratify=y)"
   ]
  },
  {
   "cell_type": "code",
   "execution_count": 43,
   "id": "86b295f9",
   "metadata": {},
   "outputs": [
    {
     "name": "stdout",
     "output_type": "stream",
     "text": [
      "(3128, 57) (3128,)\n"
     ]
    }
   ],
   "source": [
    "print(X_train.shape, y_train.shape)"
   ]
  },
  {
   "cell_type": "code",
   "execution_count": 44,
   "id": "10379003",
   "metadata": {},
   "outputs": [
    {
     "name": "stdout",
     "output_type": "stream",
     "text": [
      "Accuracy: 0.9398976982097187\n"
     ]
    }
   ],
   "source": [
    "xgb_cl = xgb.XGBClassifier()\n",
    "\n",
    "# Fit\n",
    "xgb_cl.fit(X_train, y_train)\n",
    "\n",
    "# Predict\n",
    "\n",
    "preds_xgb = xgb_cl.predict(X_val)\n",
    "\n",
    "# Score\n",
    "accuracy_score(y_val, preds_xgb)\n",
    "print(\"Accuracy:\", accuracy_score(y_val, preds_xgb))"
   ]
  },
  {
   "cell_type": "code",
   "execution_count": 45,
   "id": "5ea04902",
   "metadata": {},
   "outputs": [
    {
     "name": "stdout",
     "output_type": "stream",
     "text": [
      "0.988218755357449\n"
     ]
    }
   ],
   "source": [
    "predict_prob_xgb = xgb_cl.predict_proba(X_val)[:,1]\n",
    "print(roc_auc_score(y_val, predict_prob_xgb))"
   ]
  },
  {
   "cell_type": "markdown",
   "id": "e5142b42",
   "metadata": {},
   "source": [
    "# Using XGBOOST on those variable which have min 5 percent contribution on output variable"
   ]
  },
  {
   "cell_type": "code",
   "execution_count": 46,
   "id": "92e8ee34",
   "metadata": {},
   "outputs": [],
   "source": [
    "X_m, y_m = df_mutual.loc[:,df_mutual.columns !='Y'], df['Y']\n",
    "X_train_m, X_val_m, y_train_m, y_val_m = train_test_split(X_m, y_m, test_size= 0.2, random_state=4, stratify=y2)"
   ]
  },
  {
   "cell_type": "code",
   "execution_count": 47,
   "id": "a78eabdb",
   "metadata": {},
   "outputs": [
    {
     "data": {
      "text/plain": [
       "0.9296675191815856"
      ]
     },
     "execution_count": 47,
     "metadata": {},
     "output_type": "execute_result"
    }
   ],
   "source": [
    "xgb_cl = xgb.XGBClassifier()\n",
    "\n",
    "# Fit\n",
    "xgb_cl.fit(X_train_m, y_train_m)\n",
    "\n",
    "# Predict\n",
    "preds_xgb_m = xgb_cl.predict(X_val_m)\n",
    "\n",
    "# Score\n",
    "accuracy_score(y_val_m, preds_xgb_m)"
   ]
  },
  {
   "cell_type": "code",
   "execution_count": 48,
   "id": "9d562544",
   "metadata": {},
   "outputs": [
    {
     "name": "stdout",
     "output_type": "stream",
     "text": [
      "ROC_AUC score: 0.9840356591805246\n"
     ]
    }
   ],
   "source": [
    "predict_prob_xgb_m = xgb_cl.predict_proba(X_val_m)[:,1]\n",
    "print(\"ROC_AUC score:\",roc_auc_score(y_val_m, predict_prob_xgb_m))"
   ]
  },
  {
   "cell_type": "code",
   "execution_count": 49,
   "id": "5b00b78a",
   "metadata": {},
   "outputs": [
    {
     "data": {
      "image/png": "[encoded data removed]",
      "text/plain": [
       "<Figure size 720x720 with 1 Axes>"
      ]
     },
     "metadata": {},
     "output_type": "display_data"
    }
   ],
   "source": [
    "\n",
    "fpr1, tpr1, threshold1 = roc_curve(y_val, predict_prob_xgb)\n",
    "\n",
    "fpr2, tpr2, threshold2 = roc_curve(y_val_m, predict_prob_xgb_m)\n",
    "plt.figure(figsize=(10,10))\n",
    "plt.plot(fpr1, tpr1, label = \"XGBWithoutFS\")\n",
    "\n",
    "plt.plot(fpr2, tpr2, label=\"XGBWithFS\")\n",
    "plt.legend(loc='best')\n",
    "plt.show()"
   ]
  },
  {
   "cell_type": "markdown",
   "id": "4c338d19",
   "metadata": {},
   "source": [
    "# Using Random forest on the whole dataset"
   ]
  },
  {
   "cell_type": "code",
   "execution_count": 50,
   "id": "6815f05d",
   "metadata": {},
   "outputs": [],
   "source": [
    "from sklearn.ensemble import RandomForestClassifier "
   ]
  },
  {
   "cell_type": "code",
   "execution_count": 51,
   "id": "10ecb470",
   "metadata": {},
   "outputs": [
    {
     "name": "stdout",
     "output_type": "stream",
     "text": [
      "Accuracy: 0.9411764705882353\n"
     ]
    }
   ],
   "source": [
    "RF_cl=RandomForestClassifier(n_estimators=100)\n",
    "RF_cl.fit(X_train,y_train)\n",
    "\n",
    "y_pred_RF=RF_cl.predict(X_val)\n",
    "print(\"Accuracy:\",metrics.accuracy_score(y_val, y_pred_RF))"
   ]
  },
  {
   "cell_type": "code",
   "execution_count": 52,
   "id": "20f6135d",
   "metadata": {},
   "outputs": [
    {
     "name": "stdout",
     "output_type": "stream",
     "text": [
      "0.9875878621635521\n"
     ]
    }
   ],
   "source": [
    "predict_prob_RF = RF_cl.predict_proba(X_val)[:,1]\n",
    "print(roc_auc_score(y_val, predict_prob_RF))"
   ]
  },
  {
   "cell_type": "markdown",
   "id": "8e4b891d",
   "metadata": {},
   "source": [
    "# Using Random forest on those variable which have min 5 percent contribution on output variable"
   ]
  },
  {
   "cell_type": "code",
   "execution_count": 53,
   "id": "e5192486",
   "metadata": {},
   "outputs": [
    {
     "name": "stdout",
     "output_type": "stream",
     "text": [
      "Accuracy: 0.9347826086956522\n"
     ]
    }
   ],
   "source": [
    "RF_cl_m=RandomForestClassifier(n_estimators=100)\n",
    "RF_cl_m.fit(X_train_m,y_train_m)\n",
    "\n",
    "y_pred_RF_m =RF_cl_m.predict(X_val_m)\n",
    "print(\"Accuracy:\",metrics.accuracy_score(y_val_m, y_pred_RF_m))"
   ]
  },
  {
   "cell_type": "code",
   "execution_count": 54,
   "id": "4ca752d5",
   "metadata": {},
   "outputs": [
    {
     "name": "stdout",
     "output_type": "stream",
     "text": [
      "ROC-AUC score: 0.9799965712326419\n"
     ]
    }
   ],
   "source": [
    "predict_prob_RF_m = RF_cl_m.predict_proba(X_val_m)[:,1]\n",
    "print(\"ROC-AUC score:\",roc_auc_score(y_val_m, predict_prob_RF_m))"
   ]
  },
  {
   "cell_type": "code",
   "execution_count": 55,
   "id": "f208be4c",
   "metadata": {},
   "outputs": [
    {
     "data": {
      "image/png": "[encoded data removed]",
      "text/plain": [
       "<Figure size 720x720 with 1 Axes>"
      ]
     },
     "metadata": {},
     "output_type": "display_data"
    }
   ],
   "source": [
    "fpr1, tpr1, threshold1 = roc_curve(y_val, predict_prob_RF)\n",
    "\n",
    "fpr2, tpr2, threshold2 = roc_curve(y_val_m, predict_prob_RF_m)\n",
    "plt.figure(figsize=(10,10))\n",
    "plt.plot(fpr1, tpr1, label = \"RFWithoutFS\")\n",
    "\n",
    "plt.plot(fpr2, tpr2, label=\"RFWithFS\")\n",
    "plt.legend(loc='best')\n",
    "plt.show()"
   ]
  },
  {
   "cell_type": "markdown",
   "id": "644a587b",
   "metadata": {},
   "source": [
    "# Consolidated report on model performance"
   ]
  },
  {
   "cell_type": "code",
   "execution_count": 56,
   "id": "c6bc517c",
   "metadata": {},
   "outputs": [
    {
     "data": {
      "text/html": [
       "<div>\n",
       "<style scoped>\n",
       "    .dataframe tbody tr th:only-of-type {\n",
       "        vertical-align: middle;\n",
       "    }\n",
       "\n",
       "    .dataframe tbody tr th {\n",
       "        vertical-align: top;\n",
       "    }\n",
       "\n",
       "    .dataframe thead th {\n",
       "        text-align: right;\n",
       "    }\n",
       "</style>\n",
       "<table border=\"1\" class=\"dataframe\">\n",
       "  <thead>\n",
       "    <tr style=\"text-align: right;\">\n",
       "      <th></th>\n",
       "      <th>Model</th>\n",
       "      <th>accuracy</th>\n",
       "      <th>roc-auc</th>\n",
       "      <th>No. of variables</th>\n",
       "    </tr>\n",
       "  </thead>\n",
       "  <tbody>\n",
       "    <tr>\n",
       "      <th>0</th>\n",
       "      <td>Logistic Regression on whole dataset</td>\n",
       "      <td>0.925831</td>\n",
       "      <td>0.929498</td>\n",
       "      <td>57</td>\n",
       "    </tr>\n",
       "    <tr>\n",
       "      <th>1</th>\n",
       "      <td>Logistic Regression on Feature selected dataset</td>\n",
       "      <td>0.860614</td>\n",
       "      <td>0.960638</td>\n",
       "      <td>28</td>\n",
       "    </tr>\n",
       "    <tr>\n",
       "      <th>2</th>\n",
       "      <td>XGBOOST on whole dataset</td>\n",
       "      <td>0.939898</td>\n",
       "      <td>0.988219</td>\n",
       "      <td>57</td>\n",
       "    </tr>\n",
       "    <tr>\n",
       "      <th>3</th>\n",
       "      <td>XGBOOST on Feature selected dataset</td>\n",
       "      <td>0.929668</td>\n",
       "      <td>0.984036</td>\n",
       "      <td>28</td>\n",
       "    </tr>\n",
       "    <tr>\n",
       "      <th>4</th>\n",
       "      <td>Random forest on whole dataset</td>\n",
       "      <td>0.941176</td>\n",
       "      <td>0.987588</td>\n",
       "      <td>57</td>\n",
       "    </tr>\n",
       "    <tr>\n",
       "      <th>5</th>\n",
       "      <td>Random forest on Feature selected dataset</td>\n",
       "      <td>0.934783</td>\n",
       "      <td>0.979997</td>\n",
       "      <td>28</td>\n",
       "    </tr>\n",
       "  </tbody>\n",
       "</table>\n",
       "</div>"
      ],
      "text/plain": [
       "                                             Model  accuracy   roc-auc  \\\n",
       "0             Logistic Regression on whole dataset  0.925831  0.929498   \n",
       "1  Logistic Regression on Feature selected dataset  0.860614  0.960638   \n",
       "2                         XGBOOST on whole dataset  0.939898  0.988219   \n",
       "3              XGBOOST on Feature selected dataset  0.929668  0.984036   \n",
       "4                   Random forest on whole dataset  0.941176  0.987588   \n",
       "5        Random forest on Feature selected dataset  0.934783  0.979997   \n",
       "\n",
       "  No. of variables  \n",
       "0               57  \n",
       "1               28  \n",
       "2               57  \n",
       "3               28  \n",
       "4               57  \n",
       "5               28  "
      ]
     },
     "execution_count": 56,
     "metadata": {},
     "output_type": "execute_result"
    }
   ],
   "source": [
    "\n",
    "data = [['Logistic Regression on whole dataset', score, roc_auc_score(y_val, predict_prob),'57'],\n",
    "       ['Logistic Regression on Feature selected dataset', accuracy_log_m, roc_auc_score(y_val_m, predict_prob_m),'28'],\n",
    "       ['XGBOOST on whole dataset',accuracy_score(y_val, preds_xgb),roc_auc_score(y_val, predict_prob_xgb),'57'],\n",
    "       ['XGBOOST on Feature selected dataset',accuracy_score(y_val_m, preds_xgb_m),roc_auc_score(y_val_m, predict_prob_xgb_m),'28'],\n",
    "        ['Random forest on whole dataset',metrics.accuracy_score(y_val, y_pred_RF),roc_auc_score(y_val, predict_prob_RF),'57'],\n",
    "        ['Random forest on Feature selected dataset',metrics.accuracy_score(y_val_m, y_pred_RF_m),roc_auc_score(y_val_m, predict_prob_RF_m),'28']]\n",
    "\n",
    "df1= pd.DataFrame(data, columns = ['Model', 'accuracy','roc-auc','No. of variables'])\n",
    "df1.reset_index()\n",
    "df1\n"
   ]
  },
  {
   "cell_type": "code",
   "execution_count": 57,
   "id": "4b80f84f",
   "metadata": {},
   "outputs": [],
   "source": [
    "df1.to_csv('Consolidate Report on Model performance.csv')"
   ]
  },
  {
   "cell_type": "markdown",
   "id": "73226f76",
   "metadata": {},
   "source": [
    "I have tried to use mutual information for variable reduction, but it did not improve any accuracy.From the above report we can see that Random forest on whole dataset performs the best. So we are going to use it for prediction."
   ]
  },
  {
   "cell_type": "markdown",
   "id": "96c9b28b",
   "metadata": {},
   "source": [
    "# Prediction over the test dataset"
   ]
  },
  {
   "cell_type": "code",
   "execution_count": 58,
   "id": "1f6612dc",
   "metadata": {},
   "outputs": [],
   "source": [
    "test = pd.read_csv('test_set.csv', index_col = 0)"
   ]
  },
  {
   "cell_type": "code",
   "execution_count": 59,
   "id": "0133fbe4",
   "metadata": {},
   "outputs": [
    {
     "data": {
      "text/html": [
       "<div>\n",
       "<style scoped>\n",
       "    .dataframe tbody tr th:only-of-type {\n",
       "        vertical-align: middle;\n",
       "    }\n",
       "\n",
       "    .dataframe tbody tr th {\n",
       "        vertical-align: top;\n",
       "    }\n",
       "\n",
       "    .dataframe thead th {\n",
       "        text-align: right;\n",
       "    }\n",
       "</style>\n",
       "<table border=\"1\" class=\"dataframe\">\n",
       "  <thead>\n",
       "    <tr style=\"text-align: right;\">\n",
       "      <th></th>\n",
       "      <th>X1</th>\n",
       "      <th>X2</th>\n",
       "      <th>X3</th>\n",
       "      <th>X4</th>\n",
       "      <th>X5</th>\n",
       "      <th>X6</th>\n",
       "      <th>X7</th>\n",
       "      <th>X8</th>\n",
       "      <th>X9</th>\n",
       "      <th>X10</th>\n",
       "      <th>...</th>\n",
       "      <th>X48</th>\n",
       "      <th>X49</th>\n",
       "      <th>X50</th>\n",
       "      <th>X51</th>\n",
       "      <th>X52</th>\n",
       "      <th>X53</th>\n",
       "      <th>X54</th>\n",
       "      <th>X55</th>\n",
       "      <th>X56</th>\n",
       "      <th>X57</th>\n",
       "    </tr>\n",
       "  </thead>\n",
       "  <tbody>\n",
       "    <tr>\n",
       "      <th>0</th>\n",
       "      <td>0.70</td>\n",
       "      <td>0.0</td>\n",
       "      <td>0.70</td>\n",
       "      <td>0.0</td>\n",
       "      <td>0.00</td>\n",
       "      <td>0.00</td>\n",
       "      <td>0.00</td>\n",
       "      <td>0.00</td>\n",
       "      <td>0.00</td>\n",
       "      <td>0.00</td>\n",
       "      <td>...</td>\n",
       "      <td>0.0</td>\n",
       "      <td>0.0</td>\n",
       "      <td>0.000</td>\n",
       "      <td>0.0</td>\n",
       "      <td>0.105</td>\n",
       "      <td>0.000</td>\n",
       "      <td>0.000</td>\n",
       "      <td>2.342</td>\n",
       "      <td>47</td>\n",
       "      <td>89</td>\n",
       "    </tr>\n",
       "    <tr>\n",
       "      <th>1</th>\n",
       "      <td>0.00</td>\n",
       "      <td>0.0</td>\n",
       "      <td>0.84</td>\n",
       "      <td>0.0</td>\n",
       "      <td>0.84</td>\n",
       "      <td>0.00</td>\n",
       "      <td>0.84</td>\n",
       "      <td>0.00</td>\n",
       "      <td>0.00</td>\n",
       "      <td>0.00</td>\n",
       "      <td>...</td>\n",
       "      <td>0.0</td>\n",
       "      <td>0.0</td>\n",
       "      <td>0.388</td>\n",
       "      <td>0.0</td>\n",
       "      <td>0.776</td>\n",
       "      <td>0.129</td>\n",
       "      <td>0.000</td>\n",
       "      <td>10.375</td>\n",
       "      <td>168</td>\n",
       "      <td>249</td>\n",
       "    </tr>\n",
       "    <tr>\n",
       "      <th>2</th>\n",
       "      <td>0.46</td>\n",
       "      <td>0.3</td>\n",
       "      <td>0.46</td>\n",
       "      <td>0.0</td>\n",
       "      <td>0.05</td>\n",
       "      <td>0.12</td>\n",
       "      <td>0.05</td>\n",
       "      <td>0.28</td>\n",
       "      <td>0.43</td>\n",
       "      <td>0.74</td>\n",
       "      <td>...</td>\n",
       "      <td>0.0</td>\n",
       "      <td>0.0</td>\n",
       "      <td>0.065</td>\n",
       "      <td>0.0</td>\n",
       "      <td>0.325</td>\n",
       "      <td>0.756</td>\n",
       "      <td>0.153</td>\n",
       "      <td>5.891</td>\n",
       "      <td>193</td>\n",
       "      <td>3040</td>\n",
       "    </tr>\n",
       "    <tr>\n",
       "      <th>3</th>\n",
       "      <td>0.10</td>\n",
       "      <td>0.2</td>\n",
       "      <td>1.01</td>\n",
       "      <td>0.0</td>\n",
       "      <td>0.80</td>\n",
       "      <td>0.80</td>\n",
       "      <td>0.50</td>\n",
       "      <td>0.00</td>\n",
       "      <td>0.80</td>\n",
       "      <td>0.10</td>\n",
       "      <td>...</td>\n",
       "      <td>0.0</td>\n",
       "      <td>0.0</td>\n",
       "      <td>0.110</td>\n",
       "      <td>0.0</td>\n",
       "      <td>0.490</td>\n",
       "      <td>0.158</td>\n",
       "      <td>0.015</td>\n",
       "      <td>8.550</td>\n",
       "      <td>669</td>\n",
       "      <td>1351</td>\n",
       "    </tr>\n",
       "    <tr>\n",
       "      <th>4</th>\n",
       "      <td>0.00</td>\n",
       "      <td>0.0</td>\n",
       "      <td>0.72</td>\n",
       "      <td>0.0</td>\n",
       "      <td>0.72</td>\n",
       "      <td>0.00</td>\n",
       "      <td>0.72</td>\n",
       "      <td>0.00</td>\n",
       "      <td>0.00</td>\n",
       "      <td>0.00</td>\n",
       "      <td>...</td>\n",
       "      <td>0.0</td>\n",
       "      <td>0.0</td>\n",
       "      <td>0.364</td>\n",
       "      <td>0.0</td>\n",
       "      <td>0.729</td>\n",
       "      <td>0.121</td>\n",
       "      <td>0.000</td>\n",
       "      <td>7.781</td>\n",
       "      <td>32</td>\n",
       "      <td>249</td>\n",
       "    </tr>\n",
       "  </tbody>\n",
       "</table>\n",
       "<p>5 rows × 57 columns</p>\n",
       "</div>"
      ],
      "text/plain": [
       "     X1   X2    X3   X4    X5    X6    X7    X8    X9   X10  ...  X48  X49  \\\n",
       "0  0.70  0.0  0.70  0.0  0.00  0.00  0.00  0.00  0.00  0.00  ...  0.0  0.0   \n",
       "1  0.00  0.0  0.84  0.0  0.84  0.00  0.84  0.00  0.00  0.00  ...  0.0  0.0   \n",
       "2  0.46  0.3  0.46  0.0  0.05  0.12  0.05  0.28  0.43  0.74  ...  0.0  0.0   \n",
       "3  0.10  0.2  1.01  0.0  0.80  0.80  0.50  0.00  0.80  0.10  ...  0.0  0.0   \n",
       "4  0.00  0.0  0.72  0.0  0.72  0.00  0.72  0.00  0.00  0.00  ...  0.0  0.0   \n",
       "\n",
       "     X50  X51    X52    X53    X54     X55  X56   X57  \n",
       "0  0.000  0.0  0.105  0.000  0.000   2.342   47    89  \n",
       "1  0.388  0.0  0.776  0.129  0.000  10.375  168   249  \n",
       "2  0.065  0.0  0.325  0.756  0.153   5.891  193  3040  \n",
       "3  0.110  0.0  0.490  0.158  0.015   8.550  669  1351  \n",
       "4  0.364  0.0  0.729  0.121  0.000   7.781   32   249  \n",
       "\n",
       "[5 rows x 57 columns]"
      ]
     },
     "execution_count": 59,
     "metadata": {},
     "output_type": "execute_result"
    }
   ],
   "source": [
    "test.head()"
   ]
  },
  {
   "cell_type": "code",
   "execution_count": 60,
   "id": "bc4ab98d",
   "metadata": {},
   "outputs": [],
   "source": [
    "test.loc[:,'y']= RF_cl.predict(test)"
   ]
  },
  {
   "cell_type": "code",
   "execution_count": 61,
   "id": "bb177538",
   "metadata": {},
   "outputs": [
    {
     "data": {
      "text/html": [
       "<div>\n",
       "<style scoped>\n",
       "    .dataframe tbody tr th:only-of-type {\n",
       "        vertical-align: middle;\n",
       "    }\n",
       "\n",
       "    .dataframe tbody tr th {\n",
       "        vertical-align: top;\n",
       "    }\n",
       "\n",
       "    .dataframe thead th {\n",
       "        text-align: right;\n",
       "    }\n",
       "</style>\n",
       "<table border=\"1\" class=\"dataframe\">\n",
       "  <thead>\n",
       "    <tr style=\"text-align: right;\">\n",
       "      <th></th>\n",
       "      <th>X1</th>\n",
       "      <th>X2</th>\n",
       "      <th>X3</th>\n",
       "      <th>X4</th>\n",
       "      <th>X5</th>\n",
       "      <th>X6</th>\n",
       "      <th>X7</th>\n",
       "      <th>X8</th>\n",
       "      <th>X9</th>\n",
       "      <th>X10</th>\n",
       "      <th>...</th>\n",
       "      <th>X49</th>\n",
       "      <th>X50</th>\n",
       "      <th>X51</th>\n",
       "      <th>X52</th>\n",
       "      <th>X53</th>\n",
       "      <th>X54</th>\n",
       "      <th>X55</th>\n",
       "      <th>X56</th>\n",
       "      <th>X57</th>\n",
       "      <th>y</th>\n",
       "    </tr>\n",
       "  </thead>\n",
       "  <tbody>\n",
       "    <tr>\n",
       "      <th>0</th>\n",
       "      <td>0.70</td>\n",
       "      <td>0.0</td>\n",
       "      <td>0.70</td>\n",
       "      <td>0.0</td>\n",
       "      <td>0.00</td>\n",
       "      <td>0.00</td>\n",
       "      <td>0.00</td>\n",
       "      <td>0.00</td>\n",
       "      <td>0.00</td>\n",
       "      <td>0.00</td>\n",
       "      <td>...</td>\n",
       "      <td>0.0</td>\n",
       "      <td>0.000</td>\n",
       "      <td>0.0</td>\n",
       "      <td>0.105</td>\n",
       "      <td>0.000</td>\n",
       "      <td>0.000</td>\n",
       "      <td>2.342</td>\n",
       "      <td>47</td>\n",
       "      <td>89</td>\n",
       "      <td>0</td>\n",
       "    </tr>\n",
       "    <tr>\n",
       "      <th>1</th>\n",
       "      <td>0.00</td>\n",
       "      <td>0.0</td>\n",
       "      <td>0.84</td>\n",
       "      <td>0.0</td>\n",
       "      <td>0.84</td>\n",
       "      <td>0.00</td>\n",
       "      <td>0.84</td>\n",
       "      <td>0.00</td>\n",
       "      <td>0.00</td>\n",
       "      <td>0.00</td>\n",
       "      <td>...</td>\n",
       "      <td>0.0</td>\n",
       "      <td>0.388</td>\n",
       "      <td>0.0</td>\n",
       "      <td>0.776</td>\n",
       "      <td>0.129</td>\n",
       "      <td>0.000</td>\n",
       "      <td>10.375</td>\n",
       "      <td>168</td>\n",
       "      <td>249</td>\n",
       "      <td>1</td>\n",
       "    </tr>\n",
       "    <tr>\n",
       "      <th>2</th>\n",
       "      <td>0.46</td>\n",
       "      <td>0.3</td>\n",
       "      <td>0.46</td>\n",
       "      <td>0.0</td>\n",
       "      <td>0.05</td>\n",
       "      <td>0.12</td>\n",
       "      <td>0.05</td>\n",
       "      <td>0.28</td>\n",
       "      <td>0.43</td>\n",
       "      <td>0.74</td>\n",
       "      <td>...</td>\n",
       "      <td>0.0</td>\n",
       "      <td>0.065</td>\n",
       "      <td>0.0</td>\n",
       "      <td>0.325</td>\n",
       "      <td>0.756</td>\n",
       "      <td>0.153</td>\n",
       "      <td>5.891</td>\n",
       "      <td>193</td>\n",
       "      <td>3040</td>\n",
       "      <td>1</td>\n",
       "    </tr>\n",
       "    <tr>\n",
       "      <th>3</th>\n",
       "      <td>0.10</td>\n",
       "      <td>0.2</td>\n",
       "      <td>1.01</td>\n",
       "      <td>0.0</td>\n",
       "      <td>0.80</td>\n",
       "      <td>0.80</td>\n",
       "      <td>0.50</td>\n",
       "      <td>0.00</td>\n",
       "      <td>0.80</td>\n",
       "      <td>0.10</td>\n",
       "      <td>...</td>\n",
       "      <td>0.0</td>\n",
       "      <td>0.110</td>\n",
       "      <td>0.0</td>\n",
       "      <td>0.490</td>\n",
       "      <td>0.158</td>\n",
       "      <td>0.015</td>\n",
       "      <td>8.550</td>\n",
       "      <td>669</td>\n",
       "      <td>1351</td>\n",
       "      <td>1</td>\n",
       "    </tr>\n",
       "    <tr>\n",
       "      <th>4</th>\n",
       "      <td>0.00</td>\n",
       "      <td>0.0</td>\n",
       "      <td>0.72</td>\n",
       "      <td>0.0</td>\n",
       "      <td>0.72</td>\n",
       "      <td>0.00</td>\n",
       "      <td>0.72</td>\n",
       "      <td>0.00</td>\n",
       "      <td>0.00</td>\n",
       "      <td>0.00</td>\n",
       "      <td>...</td>\n",
       "      <td>0.0</td>\n",
       "      <td>0.364</td>\n",
       "      <td>0.0</td>\n",
       "      <td>0.729</td>\n",
       "      <td>0.121</td>\n",
       "      <td>0.000</td>\n",
       "      <td>7.781</td>\n",
       "      <td>32</td>\n",
       "      <td>249</td>\n",
       "      <td>1</td>\n",
       "    </tr>\n",
       "  </tbody>\n",
       "</table>\n",
       "<p>5 rows × 58 columns</p>\n",
       "</div>"
      ],
      "text/plain": [
       "     X1   X2    X3   X4    X5    X6    X7    X8    X9   X10  ...  X49    X50  \\\n",
       "0  0.70  0.0  0.70  0.0  0.00  0.00  0.00  0.00  0.00  0.00  ...  0.0  0.000   \n",
       "1  0.00  0.0  0.84  0.0  0.84  0.00  0.84  0.00  0.00  0.00  ...  0.0  0.388   \n",
       "2  0.46  0.3  0.46  0.0  0.05  0.12  0.05  0.28  0.43  0.74  ...  0.0  0.065   \n",
       "3  0.10  0.2  1.01  0.0  0.80  0.80  0.50  0.00  0.80  0.10  ...  0.0  0.110   \n",
       "4  0.00  0.0  0.72  0.0  0.72  0.00  0.72  0.00  0.00  0.00  ...  0.0  0.364   \n",
       "\n",
       "   X51    X52    X53    X54     X55  X56   X57  y  \n",
       "0  0.0  0.105  0.000  0.000   2.342   47    89  0  \n",
       "1  0.0  0.776  0.129  0.000  10.375  168   249  1  \n",
       "2  0.0  0.325  0.756  0.153   5.891  193  3040  1  \n",
       "3  0.0  0.490  0.158  0.015   8.550  669  1351  1  \n",
       "4  0.0  0.729  0.121  0.000   7.781   32   249  1  \n",
       "\n",
       "[5 rows x 58 columns]"
      ]
     },
     "execution_count": 61,
     "metadata": {},
     "output_type": "execute_result"
    }
   ],
   "source": [
    "test.head()"
   ]
  },
  {
   "cell_type": "code",
   "execution_count": 62,
   "id": "0ca1af5f",
   "metadata": {},
   "outputs": [],
   "source": [
    "test.to_csv('Test_Dataset_after_prediction.csv')"
   ]
  },
  {
   "cell_type": "code",
   "execution_count": null,
   "id": "27838f57",
   "metadata": {},
   "outputs": [],
   "source": []
  }
 ],
 "metadata": {
  "kernelspec": {
   "display_name": "Python 3 (ipykernel)",
   "language": "python",
   "name": "python3"
  },
  "language_info": {
   "codemirror_mode": {
    "name": "ipython",
    "version": 3
   },
   "file_extension": ".py",
   "mimetype": "text/x-python",
   "name": "python",
   "nbconvert_exporter": "python",
   "pygments_lexer": "ipython3",
   "version": "3.10.2"
  }
 },
 "nbformat": 4,
 "nbformat_minor": 5
}
